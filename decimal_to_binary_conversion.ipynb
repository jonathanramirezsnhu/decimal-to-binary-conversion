{
 "cells": [
  {
   "cell_type": "markdown",
   "id": "d2901529-b030-4dbf-83f5-f5268da9c223",
   "metadata": {},
   "source": [
    "## Decimal to Binary"
   ]
  },
  {
   "cell_type": "code",
   "execution_count": 21,
   "id": "73ebca4c-e0ae-44e7-ae1f-533e8a1ae17f",
   "metadata": {},
   "outputs": [
    {
     "name": "stdin",
     "output_type": "stream",
     "text": [
      "Enter a number to convert to binary:  23\n"
     ]
    },
    {
     "name": "stdout",
     "output_type": "stream",
     "text": [
      "\n",
      "23 in binary is: 0b10111\n"
     ]
    }
   ],
   "source": [
    "#Converts a decimal number to binary\n",
    "import math\n",
    "def decimal_to_binary(number):\n",
    "    binary_num = []\n",
    "    num = number\n",
    "    while num > 0:\n",
    "        #Extract the remainder first and add it to the list\n",
    "        if num % 2 == 0:\n",
    "            binary_num.append(0)\n",
    "        elif num % 2 == 1:\n",
    "            binary_num.append(1)\n",
    "        #Divide the number and then round down until it reaches zero\n",
    "        rounded_number = math.floor(num / 2)\n",
    "        num = rounded_number\n",
    "        \n",
    "    return convert_list(binary_num) #Calls the convert_list function to flip the list\n",
    "\n",
    "def convert_list(binary_list):\n",
    "    flip_binary_number = binary_list[::-1 ]#Flips the list since binary numbers are written from right to left.\n",
    "    convert_to_string = [str(bit) for bit in flip_binary_number] # the list of integers are then converted to strings\n",
    "    output_binary = ''\n",
    "    for string_bit in convert_to_string:\n",
    "        output_binary += string_bit #The reason why we converted the list to strings\n",
    "    return output_binary #returns a cleaner output\n",
    "    \n",
    "number_to_binary = int(input('Enter a number to convert to binary: '))\n",
    "conversion = decimal_to_binary(number_to_binary)\n",
    "print(f'\\n{number_to_binary} in binary is: 0b{conversion}')"
   ]
  },
  {
   "cell_type": "code",
   "execution_count": null,
   "id": "df3c8b06-05bc-4ce3-a7f7-e26f48e0abf5",
   "metadata": {},
   "outputs": [],
   "source": []
  }
 ],
 "metadata": {
  "kernelspec": {
   "display_name": "Python 3 (ipykernel)",
   "language": "python",
   "name": "python3"
  },
  "language_info": {
   "codemirror_mode": {
    "name": "ipython",
    "version": 3
   },
   "file_extension": ".py",
   "mimetype": "text/x-python",
   "name": "python",
   "nbconvert_exporter": "python",
   "pygments_lexer": "ipython3",
   "version": "3.11.4"
  }
 },
 "nbformat": 4,
 "nbformat_minor": 5
}
